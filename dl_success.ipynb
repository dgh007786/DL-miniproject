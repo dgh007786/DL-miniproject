{
  "cells": [
    {
      "cell_type": "code",
      "execution_count": 1,
      "metadata": {
        "colab": {
          "base_uri": "https://localhost:8080/"
        },
        "id": "nuGyuq4QPhjd",
        "outputId": "1e8c447e-0653-4fc9-c297-8b7a18f8aaf5"
      },
      "outputs": [
        {
          "output_type": "stream",
          "name": "stdout",
          "text": [
            "Downloading data from https://www.cs.toronto.edu/~kriz/cifar-10-python.tar.gz\n",
            "170498071/170498071 [==============================] - 7s 0us/step\n"
          ]
        }
      ],
      "source": [
        "import tensorflow as tf\n",
        "from keras.layers import Input, Conv2D, BatchNormalization, ReLU, Add, AveragePooling2D, Flatten, Dense\n",
        "from keras.models import Model\n",
        "from keras.datasets import cifar10\n",
        "from keras.utils import to_categorical\n",
        "from keras.preprocessing.image import ImageDataGenerator\n",
        "from keras.optimizers import Adam\n",
        "\n",
        "# Load the CIFAR-10 data\n",
        "(x_train, y_train), (x_test, y_test) = cifar10.load_data()\n",
        "y_train = to_categorical(y_train, num_classes=10)\n",
        "y_test = to_categorical(y_test, num_classes=10)"
      ]
    },
    {
      "cell_type": "code",
      "execution_count": 2,
      "metadata": {
        "id": "yOGw6tWbkxyM"
      },
      "outputs": [],
      "source": [
        "# Define the ResNet block\n",
        "def residual_block(inputs, filters, strides):\n",
        "    shortcut = inputs\n",
        "    x = Conv2D(filters, kernel_size=3, strides=strides, padding=\"same\")(inputs)\n",
        "    x = BatchNormalization()(x)\n",
        "    x = ReLU()(x)\n",
        "    x = Conv2D(filters, kernel_size=3, strides=1, padding=\"same\")(x)\n",
        "    x = BatchNormalization()(x)\n",
        "    if strides != 1 or inputs.shape[-1] != filters:\n",
        "        shortcut = Conv2D(filters, kernel_size=1, strides=strides)(inputs)\n",
        "        shortcut = BatchNormalization()(shortcut)\n",
        "    x = Add()([shortcut, x])\n",
        "    x = ReLU()(x)\n",
        "    return x"
      ]
    },
    {
      "cell_type": "code",
      "execution_count": 3,
      "metadata": {
        "colab": {
          "base_uri": "https://localhost:8080/"
        },
        "id": "6dTFuBJMk0-X",
        "outputId": "2cd6d412-a9e9-4247-ce79-ed308b2db9c7"
      },
      "outputs": [
        {
          "output_type": "stream",
          "name": "stderr",
          "text": [
            "/usr/local/lib/python3.9/dist-packages/keras/optimizers/legacy/adam.py:117: UserWarning: The `lr` argument is deprecated, use `learning_rate` instead.\n",
            "  super().__init__(name, **kwargs)\n"
          ]
        }
      ],
      "source": [
        "# Define the ResNet architecture\n",
        "inputs = Input(shape=(32, 32, 3))\n",
        "x = Conv2D(64, kernel_size=3, strides=1, padding=\"same\")(inputs)\n",
        "x = BatchNormalization()(x)\n",
        "x = ReLU()(x)\n",
        "x = residual_block(x, filters=64, strides=1)\n",
        "x = residual_block(x, filters=64, strides=1)\n",
        "x = residual_block(x, filters=64, strides=1)\n",
        "x = residual_block(x, filters=128, strides=2)\n",
        "x = residual_block(x, filters=128, strides=1)\n",
        "x = residual_block(x, filters=128, strides=1)\n",
        "x = residual_block(x, filters=256, strides=2)\n",
        "x = residual_block(x, filters=256, strides=1)\n",
        "x = residual_block(x, filters=256, strides=1)\n",
        "x = AveragePooling2D(pool_size=4)(x)\n",
        "x = Flatten()(x)\n",
        "outputs = Dense(10, activation=\"softmax\")(x)\n",
        "model = Model(inputs=inputs, outputs=outputs)\n",
        "\n",
        "# Compile the model\n",
        "opt = Adam(lr=0.001)\n",
        "model.compile(optimizer=opt, loss=\"categorical_crossentropy\", metrics=[\"accuracy\"])"
      ]
    },
    {
      "cell_type": "code",
      "execution_count": null,
      "metadata": {
        "colab": {
          "base_uri": "https://localhost:8080/"
        },
        "id": "iS_ganF9k5-x",
        "outputId": "c33003f6-51e6-4940-aadd-0d79cead9b98"
      },
      "outputs": [
        {
          "output_type": "stream",
          "name": "stdout",
          "text": [
            "Epoch 1/50\n",
            "390/390 [==============================] - 70s 142ms/step - loss: 1.5304 - accuracy: 0.4594 - val_loss: 1.7688 - val_accuracy: 0.4242\n",
            "Epoch 2/50\n",
            "355/390 [==========================>...] - ETA: 4s - loss: 0.9970 - accuracy: 0.6510"
          ]
        }
      ],
      "source": [
        "# Data augmentation\n",
        "datagen = ImageDataGenerator(\n",
        "    width_shift_range=0.1,\n",
        "    height_shift_range=0.1,\n",
        "    horizontal_flip=True,\n",
        "    rotation_range=10,\n",
        "    zoom_range=0.1\n",
        ")\n",
        "\n",
        "# Train the model\n",
        "batch_size = 128\n",
        "epochs = 100\n",
        "steps_per_epoch = x_train.shape[0] // batch_size\n",
        "history = model.fit(datagen.flow(x_train, y_train, batch_size=batch_size), \n",
        "                    steps_per_epoch=steps_per_epoch, epochs=epochs, \n",
        "                    validation_data=(x_test, y_test))"
      ]
    },
    {
      "cell_type": "code",
      "source": [
        "import matplotlib.pyplot as plt\n",
        "#summarize history for accuracy\n",
        "plt.plot(history.history['accuracy'])\n",
        "plt.plot(history.history['val_accuracy'])\n",
        "plt.title('Model Accuracy')\n",
        "plt.ylabel('Acc')\n",
        "plt.xlabel('Epoch')\n",
        "plt.legend(['train', 'test'], loc='upper left')\n",
        "plt.show()"
      ],
      "metadata": {
        "id": "kz1wOJFVb_7T"
      },
      "execution_count": null,
      "outputs": []
    },
    {
      "cell_type": "code",
      "source": [
        "import matplotlib.pyplot as plt\n",
        "#summarize history for accuracy\n",
        "plt.plot(history.history['loss'])\n",
        "plt.plot(history.history['val_loss'])\n",
        "plt.title('Model Loss')\n",
        "plt.ylabel('Loss')\n",
        "plt.xlabel('Epoch')\n",
        "plt.legend(['train', 'test'], loc='upper left')\n",
        "plt.show()"
      ],
      "metadata": {
        "id": "Yp-5tlPUmhU2"
      },
      "execution_count": null,
      "outputs": []
    },
    {
      "cell_type": "code",
      "execution_count": null,
      "metadata": {
        "id": "3tke03rVk-C6"
      },
      "outputs": [],
      "source": [
        "# Evaluate the model on test set\n",
        "test_loss, test_acc = model.evaluate(x_test, y_test, verbose=2)\n",
        "print(\"Test accuracy:\", test_acc)"
      ]
    },
    {
      "cell_type": "code",
      "execution_count": null,
      "metadata": {
        "id": "SenUbkyGl1UK"
      },
      "outputs": [],
      "source": [
        "import torch\n",
        "import torch.nn as nn\n",
        "\n",
        "import torchvision\n",
        "from torchvision import transforms\n",
        "from torchsummary import summary\n",
        "\n",
        "from torch.nn.utils import (\n",
        "  parameters_to_vector as Params2Vec,\n",
        "  vector_to_parameters as Vec2Params\n",
        ")\n",
        "\n",
        "from tqdm import tqdm"
      ]
    },
    {
      "cell_type": "code",
      "execution_count": null,
      "metadata": {
        "id": "Wdfe0lsumJda"
      },
      "outputs": [],
      "source": [
        "from torchvision import models\n",
        "model = Model(inputs=inputs, outputs=outputs)\n",
        "print(model.summary())"
      ]
    }
  ],
  "metadata": {
    "accelerator": "GPU",
    "colab": {
      "provenance": []
    },
    "gpuClass": "standard",
    "kernelspec": {
      "display_name": "Python 3",
      "name": "python3"
    },
    "language_info": {
      "name": "python"
    }
  },
  "nbformat": 4,
  "nbformat_minor": 0
}